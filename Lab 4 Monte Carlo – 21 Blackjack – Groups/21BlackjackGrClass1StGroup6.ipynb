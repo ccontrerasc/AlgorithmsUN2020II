{
  "nbformat": 4,
  "nbformat_minor": 0,
  "metadata": {
    "colab": {
      "name": "21BlackjackGrClass1StGroup6.ipynb",
      "provenance": [],
      "collapsed_sections": []
    },
    "kernelspec": {
      "name": "python3",
      "display_name": "Python 3"
    }
  },
  "cells": [
    {
      "cell_type": "markdown",
      "metadata": {
        "id": "snJljcNYRhje"
      },
      "source": [
        "# **1.**"
      ]
    },
    {
      "cell_type": "markdown",
      "metadata": {
        "id": "KWHI5LtNtsKg"
      },
      "source": [
        "# ***Baraja Española*** \n"
      ]
    },
    {
      "cell_type": "code",
      "metadata": {
        "id": "2Y2gNyPB0Rp_",
        "outputId": "836fd2f0-ec7d-4cc6-a875-00eda223b4fe",
        "colab": {
          "base_uri": "https://localhost:8080/",
          "height": 282
        }
      },
      "source": [
        "import random as r\n",
        "import matplotlib.pyplot as plt\n",
        "\n",
        "n = 10000000\n",
        "count =0\n",
        "avcnc=0\n",
        "mnc21=[]\n",
        "for i in range (n):\n",
        "    deck= [1,2,3,4,5,6,7,8,9,10,11,12,1,2,3,4,5,6,7,8,9,10,11,12,1,2,3,4,5,6,7,8,9,10,11,12,1,2,3,4,5,6,7,8,9,10,11,12]\n",
        "    my_cards=[]\n",
        "    nc=0\n",
        "    while(sum(my_cards)<21):\n",
        "        card = r.choice(deck)\n",
        "        my_cards.append(card)\n",
        "        deck.remove(card)\n",
        "        nc+= 1\n",
        "    if (sum(my_cards)==21):\n",
        "        count = count +1\n",
        "        avcnc = avcnc + nc\n",
        "        mnc21.append(nc)\n",
        "print(\"probabibilidad de tener 21 es de \" , count/n,\",cartas promedio por mano\", avcnc/count, \",maximo número de cartas para tener 21 =\",max(mnc21))\n",
        "plt.hist(mnc21,density=True,bins=max(mnc21)-min(mnc21))\n",
        "plt.show()"
      ],
      "execution_count": null,
      "outputs": [
        {
          "output_type": "stream",
          "text": [
            "probabibilidad de tener 21 es de  0.1577432 ,cartas promedio por mano 3.4162740454105154 ,maximo número de cartas para tener 21 = 9\n"
          ],
          "name": "stdout"
        },
        {
          "output_type": "display_data",
          "data": {
            "image/png": "[encoded data removed]",
            "text/plain": [
              "<Figure size 432x288 with 1 Axes>"
            ]
          },
          "metadata": {
            "tags": [],
            "needs_background": "light"
          }
        }
      ]
    },
    {
      "cell_type": "markdown",
      "metadata": {
        "id": "yJWhA6LZuG0t"
      },
      "source": [
        "# ***Baraja de Póker*** \n"
      ]
    },
    {
      "cell_type": "code",
      "metadata": {
        "id": "xAx2VTYphVt2",
        "outputId": "9477d3a4-bbdf-4891-c51a-b4e642675d2a",
        "colab": {
          "base_uri": "https://localhost:8080/",
          "height": 282
        }
      },
      "source": [
        "import random as r\n",
        "import matplotlib.pyplot as plt\n",
        "\n",
        "n = 10000000\n",
        "count =0\n",
        "avcnc=0\n",
        "mnc21=[]\n",
        "for i in range (n):\n",
        "    deck= [1,2,3,4,5,6,7,8,9,10,11,12,13,1,2,3,4,5,6,7,8,9,10,11,12,13,1,2,3,4,5,6,7,8,9,10,11,12,13,1,2,3,4,5,6,7,8,9,10,11,12,13]\n",
        "    my_cards=[]\n",
        "    nc=0\n",
        "    while(sum(my_cards)<21):\n",
        "        card = r.choice(deck)\n",
        "        my_cards.append(card)\n",
        "        deck.remove(card)\n",
        "        nc+= 1\n",
        "    if (sum(my_cards)==21):\n",
        "        count = count +1\n",
        "        avcnc = avcnc + nc\n",
        "        mnc21.append(nc)\n",
        "print(\"probabibilidad de tener 21 es de \" , count/n,\",cartas promedio por mano\", avcnc/count, \",maximo número de cartas para tener 21 =\",max(mnc21))\n",
        "plt.hist(mnc21,density=True,bins=max(mnc21)-min(mnc21))\n",
        "plt.show()"
      ],
      "execution_count": null,
      "outputs": [
        {
          "output_type": "stream",
          "text": [
            "probabibilidad de tener 21 es de  0.1447343 ,cartas promedio por mano 3.2150395586947944 ,maximo número de cartas para tener 21 = 9\n"
          ],
          "name": "stdout"
        },
        {
          "output_type": "display_data",
          "data": {
            "image/png": "[encoded data removed]",
            "text/plain": [
              "<Figure size 432x288 with 1 Axes>"
            ]
          },
          "metadata": {
            "tags": [],
            "needs_background": "light"
          }
        }
      ]
    },
    {
      "cell_type": "markdown",
      "metadata": {
        "id": "w6vALklBRr1D"
      },
      "source": [
        "# **2.**"
      ]
    },
    {
      "cell_type": "markdown",
      "metadata": {
        "id": "f3N4Ct_1ucbC"
      },
      "source": [
        "# ***Baraja Española (Triple 10)*** \n"
      ]
    },
    {
      "cell_type": "code",
      "metadata": {
        "id": "NtLCk3rGhtyT",
        "outputId": "79b33078-3a23-405e-974d-28eb931fbe00",
        "colab": {
          "base_uri": "https://localhost:8080/",
          "height": 282
        }
      },
      "source": [
        "import random as r\n",
        "import matplotlib.pyplot as plt\n",
        "\n",
        "n = 10000000\n",
        "count =0\n",
        "avcnc=0\n",
        "mnc21=[]\n",
        "for i in range (n):\n",
        "    deck= [1,2,3,4,5,6,7,8,9,10,10,10,1,2,3,4,5,6,7,8,9,10,10,10,1,2,3,4,5,6,7,8,9,10,10,10,1,2,3,4,5,6,7,8,9,10,10,10]\n",
        "    my_cards=[]\n",
        "    nc=0\n",
        "    while(sum(my_cards)<21):\n",
        "        card = r.choice(deck)\n",
        "        my_cards.append(card)\n",
        "        deck.remove(card)\n",
        "        nc+= 1\n",
        "    if (sum(my_cards)==21):\n",
        "        count = count +1\n",
        "        avcnc = avcnc + nc\n",
        "        mnc21.append(nc)\n",
        "print(\"probabibilidad de tener 21 es de \" , count/n,\",cartas promedio por mano\", avcnc/count, \",maximo número de cartas para tener 21 =\",max(mnc21))\n",
        "plt.hist(mnc21,density=True,bins=max(mnc21)-min(mnc21))\n",
        "plt.show()"
      ],
      "execution_count": null,
      "outputs": [
        {
          "output_type": "stream",
          "text": [
            "probabibilidad de tener 21 es de  0.1495343 ,cartas promedio por mano 3.699769885571404 ,maximo número de cartas para tener 21 = 9\n"
          ],
          "name": "stdout"
        },
        {
          "output_type": "display_data",
          "data": {
            "image/png": "[encoded data removed]",
            "text/plain": [
              "<Figure size 432x288 with 1 Axes>"
            ]
          },
          "metadata": {
            "tags": [],
            "needs_background": "light"
          }
        }
      ]
    },
    {
      "cell_type": "markdown",
      "metadata": {
        "id": "C9NVkzLfuuIL"
      },
      "source": [
        "# ***Baraja de Póker (Triple 10)*** \n"
      ]
    },
    {
      "cell_type": "code",
      "metadata": {
        "id": "ueciuL96iehC",
        "outputId": "7d2ab31b-5273-4c4d-b99c-181cc082fc6d",
        "colab": {
          "base_uri": "https://localhost:8080/",
          "height": 286
        }
      },
      "source": [
        "import random as r\n",
        "import matplotlib.pyplot as plt\n",
        "\n",
        "n = 10000000\n",
        "count =0\n",
        "avcnc=0\n",
        "mnc21=[]\n",
        "for i in range (n):\n",
        "    deck= [1,2,3,4,5,6,7,8,9,10,10,10,10,1,2,3,4,5,6,7,8,9,10,10,10,10,1,2,3,4,5,6,7,8,9,10,10,10,10,1,2,3,4,5,6,7,8,9,10,10,10,10]\n",
        "    my_cards=[]\n",
        "    nc=0\n",
        "    while(sum(my_cards)<21):\n",
        "        card = r.choice(deck)\n",
        "        my_cards.append(card)\n",
        "        deck.remove(card)\n",
        "        nc+= 1\n",
        "    if (sum(my_cards)==21):\n",
        "        count = count +1\n",
        "        avcnc = avcnc + nc\n",
        "        mnc21.append(nc)\n",
        "print(\"probabibilidad de tener 21 es de \" , count/n,\",cartas promedio por mano\", avcnc/count, \",maximo número de cartas para tener 21 =\",max(mnc21))\n",
        "plt.hist(mnc21,density=True,bins=max(mnc21)-min(mnc21))\n",
        "plt.show()"
      ],
      "execution_count": null,
      "outputs": [
        {
          "output_type": "stream",
          "text": [
            "probabibilidad de tener 21 es de  0.1400247 ,cartas promedio por mano 3.5765404246536505 ,maximo número de cartas para tener 21 = 10\n"
          ],
          "name": "stdout"
        },
        {
          "output_type": "display_data",
          "data": {
            "image/png": "[encoded data removed]",
            "text/plain": [
              "<Figure size 432x288 with 1 Axes>"
            ]
          },
          "metadata": {
            "tags": [],
            "needs_background": "light"
          }
        }
      ]
    },
    {
      "cell_type": "markdown",
      "metadata": {
        "id": "w1K_jmW7RvI2"
      },
      "source": [
        "# **3.**"
      ]
    },
    {
      "cell_type": "markdown",
      "metadata": {
        "id": "w9ehu5J0ykOQ"
      },
      "source": [
        "# ***Baraja Española (con 19 acumulado)***"
      ]
    },
    {
      "cell_type": "code",
      "metadata": {
        "id": "HYHvDXL73PwB",
        "outputId": "20c065c9-e631-423a-dcec-43e05a587673",
        "colab": {
          "base_uri": "https://localhost:8080/",
          "height": 282
        }
      },
      "source": [
        "import random as r\n",
        "import matplotlib.pyplot as plt\n",
        "\n",
        "n = 10000000\n",
        "count =0\n",
        "avcnc=0\n",
        "mnc21=[]\n",
        "for i in range (n):\n",
        "    deck= [1,2,3,4,6,8,9,10,10,10,1,2,3,4,5,6,8,9,10,10,10,1,2,3,4,5,6,7,8,9,10,10,10,1,2,3,4,5,6,7,8,9,10,10,10]\n",
        "    my_cards=[7,7,5]\n",
        "    nc=0\n",
        "    while(len(deck)>(24)):\n",
        "        deck.remove(r.choice(deck))\n",
        "    while(sum(my_cards)<21):\n",
        "        card = r.choice(deck)\n",
        "        my_cards.append(card)\n",
        "        deck.remove(card)\n",
        "        nc+= 1\n",
        "    if (sum(my_cards)==21):\n",
        "        count = count +1\n",
        "        avcnc = avcnc + nc\n",
        "        mnc21.append(nc)\n",
        "print(\"probabibilidad de tener 21 es de \" , count/n,\",cartas promedio por mano\", avcnc/count, \",maximo número de cartas para tener 21 =\",max(mnc21))\n",
        "plt.hist(mnc21,density=True,bins=max(mnc21))\n",
        "plt.show()"
      ],
      "execution_count": null,
      "outputs": [
        {
          "output_type": "stream",
          "text": [
            "probabibilidad de tener 21 es de  0.0949413 ,cartas promedio por mano 1.0643260625249495 ,maximo número de cartas para tener 21 = 2\n"
          ],
          "name": "stdout"
        },
        {
          "output_type": "display_data",
          "data": {
            "image/png": "[encoded data removed]",
            "text/plain": [
              "<Figure size 432x288 with 1 Axes>"
            ]
          },
          "metadata": {
            "tags": [],
            "needs_background": "light"
          }
        }
      ]
    },
    {
      "cell_type": "markdown",
      "metadata": {
        "id": "QdLxsZknyqiL"
      },
      "source": [
        "# ***Baraja de Póker (con 19 acumulado)***"
      ]
    },
    {
      "cell_type": "code",
      "metadata": {
        "id": "HsPnI1uf3QUM",
        "outputId": "8f5c7fa2-45d2-4f71-d0d7-055a17675282",
        "colab": {
          "base_uri": "https://localhost:8080/",
          "height": 282
        }
      },
      "source": [
        "import random as r\n",
        "import matplotlib.pyplot as plt\n",
        "\n",
        "n = 10000000\n",
        "count =0\n",
        "avcnc=0\n",
        "mnc21=[]\n",
        "for i in range (n):\n",
        "    deck= [1,2,3,4,6,8,9,10,10,10,10,1,2,3,4,5,6,8,9,10,10,10,10,1,2,3,4,5,6,7,8,9,10,10,10,10,1,2,3,4,5,6,7,8,9,10,10,10,10]\n",
        "    my_cards=[7,7,5]\n",
        "    nc=0\n",
        "    while(len(deck)>(26)):\n",
        "        deck.remove(r.choice(deck))\n",
        "    while(sum(my_cards)<21):\n",
        "        card = r.choice(deck)\n",
        "        my_cards.append(card)\n",
        "        deck.remove(card)\n",
        "        nc+= 1\n",
        "    if (sum(my_cards)==21):\n",
        "        count = count +1\n",
        "        avcnc = avcnc + nc\n",
        "        mnc21.append(nc)\n",
        "print(\"probabibilidad de tener 21 es de \" , count/n,\",cartas promedio por mano\", avcnc/count, \",maximo número de cartas para tener 21 =\",max(mnc21))\n",
        "plt.hist(mnc21,density=True,bins=max(mnc21))\n",
        "plt.show()"
      ],
      "execution_count": null,
      "outputs": [
        {
          "output_type": "stream",
          "text": [
            "probabibilidad de tener 21 es de  0.0866715 ,cartas promedio por mano 1.0584378948097126 ,maximo número de cartas para tener 21 = 2\n"
          ],
          "name": "stdout"
        },
        {
          "output_type": "display_data",
          "data": {
            "image/png": "[encoded data removed]",
            "text/plain": [
              "<Figure size 432x288 with 1 Axes>"
            ]
          },
          "metadata": {
            "tags": [],
            "needs_background": "light"
          }
        }
      ]
    },
    {
      "cell_type": "markdown",
      "metadata": {
        "id": "EaSQkvajRzAw"
      },
      "source": [
        "# **4.**"
      ]
    },
    {
      "cell_type": "markdown",
      "metadata": {
        "id": "6o4RcjpJ69Q-"
      },
      "source": [
        "# ***Baraja Española Hot Deck (con 19 acumulado)(12 restantes)***"
      ]
    },
    {
      "cell_type": "code",
      "metadata": {
        "id": "9SQpwDBD-KWg",
        "outputId": "786c15d6-55e5-4137-b754-331c6a4796dc",
        "colab": {
          "base_uri": "https://localhost:8080/",
          "height": 282
        }
      },
      "source": [
        "import random as r\n",
        "import matplotlib.pyplot as plt\n",
        "\n",
        "n = 10000000\n",
        "count =0\n",
        "avcnc=0\n",
        "mnc21=[]\n",
        "for i in range (n):\n",
        "    deck= [1,1,1,1,2,2,2,2,10,10,10,10] # n>2 va a ser tratado como 10   \"hot deck\"\n",
        "    my_cards=[7,7,5]\n",
        "    nc=3\n",
        "    while (sum(my_cards)<21):\n",
        "        card = r.choice(deck)\n",
        "        my_cards.append(card)\n",
        "        deck.remove(card)\n",
        "        nc+= 1\n",
        "    if (sum(my_cards)==21):\n",
        "        count = count +1\n",
        "        avcnc = avcnc + nc\n",
        "        mnc21.append(nc)\n",
        "print(\"probabibilidad de tener 21 es de \" , count/n,\",cartas promedio por mano\", avcnc/count, \",maximo número de cartas para tener 21 =\",max(mnc21))\n",
        "plt.hist(mnc21,density=True,bins=max(mnc21))\n",
        "plt.show()"
      ],
      "execution_count": null,
      "outputs": [
        {
          "output_type": "stream",
          "text": [
            "probabibilidad de tener 21 es de  0.4238965 ,cartas promedio por mano 4.214284383098232 ,maximo número de cartas para tener 21 = 5\n"
          ],
          "name": "stdout"
        },
        {
          "output_type": "display_data",
          "data": {
            "image/png": "[encoded data removed]",
            "text/plain": [
              "<Figure size 432x288 with 1 Axes>"
            ]
          },
          "metadata": {
            "tags": [],
            "needs_background": "light"
          }
        }
      ]
    },
    {
      "cell_type": "markdown",
      "metadata": {
        "id": "nH0cezP9C0bL"
      },
      "source": [
        "# ***Baraja Española Cold Deck (con 19 acumulado)(12 restantes)***"
      ]
    },
    {
      "cell_type": "code",
      "metadata": {
        "id": "NaqEQCWtC3gY",
        "outputId": "d08bc374-119f-480e-bd1d-c45891f37dad",
        "colab": {
          "base_uri": "https://localhost:8080/",
          "height": 282
        }
      },
      "source": [
        "import random as r\n",
        "import matplotlib.pyplot as plt\n",
        "\n",
        "n = 10000000\n",
        "countint=0\n",
        "count =0\n",
        "avcnc=0\n",
        "mnc21=[]\n",
        "for i in range (n):\n",
        "    deck= [1,1,10,10,10,10,10,10,10,10,10,10] # n>2 va a ser tratado como 10   \"Cold Deck\"\n",
        "    my_cards=[7,7,5]\n",
        "    nc=3\n",
        "    while (sum(my_cards)<21):\n",
        "        card = r.choice(deck)\n",
        "        my_cards.append(card)\n",
        "        deck.remove(card)\n",
        "        nc+= 1\n",
        "    if (sum(my_cards)==21):\n",
        "        count = count +1\n",
        "        avcnc = avcnc + nc\n",
        "        mnc21.append(nc)\n",
        "print(\"probabibilidad de tener 21 es de \" , count/n,\",cartas promedio por mano\", avcnc/count, \",maximo número de cartas para tener 21 =\",max(mnc21))\n",
        "plt.hist(mnc21,density=True,bins=max(mnc21))\n",
        "plt.show()"
      ],
      "execution_count": null,
      "outputs": [
        {
          "output_type": "stream",
          "text": [
            "probabibilidad de tener 21 es de  0.0151418 ,cartas promedio por mano 5.0 ,maximo número de cartas para tener 21 = 5\n"
          ],
          "name": "stdout"
        },
        {
          "output_type": "display_data",
          "data": {
            "image/png": "[encoded data removed]",
            "text/plain": [
              "<Figure size 432x288 with 1 Axes>"
            ]
          },
          "metadata": {
            "tags": [],
            "needs_background": "light"
          }
        }
      ]
    },
    {
      "cell_type": "markdown",
      "metadata": {
        "id": "-gZ4ah476_Wh"
      },
      "source": [
        "# ***Baraja de Póker Hot Deck (con 19 acumulado)(12 restantes)***"
      ]
    },
    {
      "cell_type": "code",
      "metadata": {
        "id": "FsDLvQPw-QGP",
        "outputId": "8326ac16-e335-4204-9ace-5d90c126b6c8",
        "colab": {
          "base_uri": "https://localhost:8080/",
          "height": 282
        }
      },
      "source": [
        "import random as r\n",
        "import matplotlib.pyplot as plt\n",
        "\n",
        "n = 10000000\n",
        "count =0\n",
        "avcnc=0\n",
        "mnc21=[]\n",
        "for i in range (n):\n",
        "    deck= [1,1,1,1,2,2,2,2,10,10,10,10] # n>2 va a ser tratado como 10   \"hot deck\"\n",
        "    my_cards=[7,7,5]\n",
        "    nc=3\n",
        "    while (sum(my_cards)<21):\n",
        "        card = r.choice(deck)\n",
        "        my_cards.append(card)\n",
        "        deck.remove(card)\n",
        "        nc+= 1\n",
        "    if (sum(my_cards)==21):\n",
        "        count = count +1\n",
        "        avcnc = avcnc + nc\n",
        "        mnc21.append(nc)\n",
        "print(\"probabibilidad de tener 21 es de \" , count/n,\",cartas promedio por mano\", avcnc/count, \",maximo número de cartas para tener 21 =\",max(mnc21))\n",
        "plt.hist(mnc21,density=True,bins=max(mnc21))\n",
        "plt.show()"
      ],
      "execution_count": null,
      "outputs": [
        {
          "output_type": "stream",
          "text": [
            "probabibilidad de tener 21 es de  0.4243689 ,cartas promedio por mano 4.214708240872505 ,maximo número de cartas para tener 21 = 5\n"
          ],
          "name": "stdout"
        },
        {
          "output_type": "display_data",
          "data": {
            "image/png": "[encoded data removed]",
            "text/plain": [
              "<Figure size 432x288 with 1 Axes>"
            ]
          },
          "metadata": {
            "tags": [],
            "needs_background": "light"
          }
        }
      ]
    },
    {
      "cell_type": "markdown",
      "metadata": {
        "id": "kT2B6RFgC58J"
      },
      "source": [
        "# ***Baraja de Póker Cold Deck (con 19 acumulado)(12 restantes)***"
      ]
    },
    {
      "cell_type": "code",
      "metadata": {
        "id": "DBBTIUR2C8dS",
        "outputId": "5ad43885-51ec-4eed-de44-e5cddf8574e5",
        "colab": {
          "base_uri": "https://localhost:8080/",
          "height": 282
        }
      },
      "source": [
        "import random as r\n",
        "import matplotlib.pyplot as plt\n",
        "\n",
        "n = 10000000\n",
        "countint=0\n",
        "count =0\n",
        "avcnc=0\n",
        "mnc21=[]\n",
        "for i in range (n):\n",
        "    deck= [1,1,10,10,10,10,10,10,10,10,10,10] # n>2 va a ser tratado como 10   \"Cold Deck\"\n",
        "    my_cards=[7,7,5]\n",
        "    nc=3\n",
        "    while (sum(my_cards)<21):\n",
        "        card = r.choice(deck)\n",
        "        my_cards.append(card)\n",
        "        deck.remove(card)\n",
        "        nc+= 1\n",
        "    if (sum(my_cards)==21):\n",
        "        count = count +1\n",
        "        avcnc = avcnc + nc\n",
        "        mnc21.append(nc)\n",
        "print(\"probabibilidad de tener 21 es de \" , count/n,\",cartas promedio por mano\", avcnc/count, \",maximo número de cartas para tener 21 =\",max(mnc21))\n",
        "plt.hist(mnc21,density=True,bins=max(mnc21))\n",
        "plt.show()"
      ],
      "execution_count": null,
      "outputs": [
        {
          "output_type": "stream",
          "text": [
            "probabibilidad de tener 21 es de  0.0151104 ,cartas promedio por mano 5.0 ,maximo número de cartas para tener 21 = 5\n"
          ],
          "name": "stdout"
        },
        {
          "output_type": "display_data",
          "data": {
            "image/png": "[encoded data removed]",
            "text/plain": [
              "<Figure size 432x288 with 1 Axes>"
            ]
          },
          "metadata": {
            "tags": [],
            "needs_background": "light"
          }
        }
      ]
    },
    {
      "cell_type": "markdown",
      "metadata": {
        "id": "AZEpOyBsR5wr"
      },
      "source": [
        "# **5.**"
      ]
    },
    {
      "cell_type": "markdown",
      "metadata": {
        "id": "JrU0e4uzUcew"
      },
      "source": [
        "# ***Ben con Baraja Española***"
      ]
    },
    {
      "cell_type": "code",
      "metadata": {
        "id": "C6sYcG2MUdsv",
        "outputId": "39d679cc-7d5a-421f-9fab-dc0d24445144",
        "colab": {
          "base_uri": "https://localhost:8080/",
          "height": 34
        }
      },
      "source": [
        "import random as r\n",
        "import matplotlib.pyplot as plt\n",
        "\n",
        "averagelosses=[]\n",
        "for j in range(10000):\n",
        "  wekeend_days=3\n",
        "  hours_a_day=10\n",
        "  games_per_hour=20\n",
        "  total_tries=wekeend_days*hours_a_day*games_per_hour\n",
        "  n = total_tries\n",
        "  counth=0\n",
        "  counthtries=0\n",
        "  countc=0\n",
        "  countctries=0\n",
        "  avcnch=0\n",
        "  avcncc=0\n",
        "  mnc21h=[]\n",
        "  mnc21c=[]\n",
        "  for i in range (n):\n",
        "    aleatorio = r.random()\n",
        "    if (aleatorio < 0.1):\n",
        "      deck= [1,1,1,1,2,2,2,2,10,10,10,10] # n>2 va a ser tratado como 10   \"Hot Deck\"\n",
        "      my_cards=[7,7,5]\n",
        "      nc=3\n",
        "      counthtries +=1\n",
        "      while (sum(my_cards)<21):\n",
        "        card = r.choice(deck)\n",
        "        my_cards.append(card)\n",
        "        deck.remove(card)\n",
        "        nc+= 1\n",
        "      if (sum(my_cards)==21):\n",
        "        counth +=1\n",
        "        avcnch = avcnch + nc\n",
        "        mnc21h.append(nc)\n",
        "    else:\n",
        "      deck= [1,2,3,4,5,6,7,8,9,10,10,10,1,2,3,4,5,6,7,8,9,10,10,10,1,2,3,4,5,6,7,8,9,10,10,10,1,2,3,4,5,6,7,8,9,10,10,10] #\"Cold Deck\"\n",
        "      my_cards=[]\n",
        "      nc=0\n",
        "      countctries +=1\n",
        "      while (sum(my_cards)<21):\n",
        "        card = r.choice(deck)\n",
        "        my_cards.append(card)\n",
        "        deck.remove(card)\n",
        "        nc+= 1\n",
        "      if (sum(my_cards)==21):\n",
        "        countc +=1\n",
        "        avcncc = avcncc + nc\n",
        "        mnc21c.append(nc)\n",
        "    \n",
        "#print(\"probabibilidad de tener 21 para Hot Deck es de \" , counth/counthtries,\",cartas promedio por mano\", avcnch/counth, \",maximo número de cartas para tener 21 =\",max(mnc21h),\",Ben termina con $\" , 1000*(counth-counthtries),\",número de intentos\",counthtries)\n",
        "#print(\"probabibilidad de tener 21 para Cold Deck es de \" , countc/countctries,\",cartas promedio por mano\", avcncc/countc, \",maximo número de cartas para tener 21 =\",max(mnc21c),\",Ben termina con $\" , 10*(countc-countctries),\",número de intentos\",countctries)\n",
        "  averagelosses.append(1000*(counth-counthtries)+10*(countc-countctries))\n",
        "\n",
        "print(\"Ben pierde\",sum(averagelosses)/len(averagelosses))"
      ],
      "execution_count": 31,
      "outputs": [
        {
          "output_type": "stream",
          "text": [
            "Ben pierde -39026.342\n"
          ],
          "name": "stdout"
        }
      ]
    },
    {
      "cell_type": "markdown",
      "metadata": {
        "id": "QBXY7VYlHsME"
      },
      "source": [
        "# ***Ben con Baraja de Póker***"
      ]
    },
    {
      "cell_type": "code",
      "metadata": {
        "id": "WSWl-Gw8HwU5",
        "outputId": "1fad0120-7763-4ce3-ba29-94da96b1a444",
        "colab": {
          "base_uri": "https://localhost:8080/",
          "height": 34
        }
      },
      "source": [
        "import random as r\n",
        "import matplotlib.pyplot as plt\n",
        "\n",
        "averagelosses=[]\n",
        "for j in range(10000):\n",
        "  wekeend_days=3\n",
        "  hours_a_day=10\n",
        "  games_per_hour=20\n",
        "  total_tries=wekeend_days*hours_a_day*games_per_hour\n",
        "  n = total_tries\n",
        "  counth=0\n",
        "  counthtries=0\n",
        "  countc=0\n",
        "  countctries=0\n",
        "  avcnch=0\n",
        "  avcncc=0\n",
        "  mnc21h=[]\n",
        "  mnc21c=[]\n",
        "  for i in range (n):\n",
        "    aleatorio = r.random()\n",
        "    if (aleatorio < 0.1):\n",
        "      deck= [1,1,1,1,2,2,2,2,10,10,10,10] # n>2 va a ser tratado como 10   \"Hot Deck\"\n",
        "      my_cards=[7,7,5]\n",
        "      nc=3\n",
        "      counthtries +=1\n",
        "      while (sum(my_cards)<21):\n",
        "        card = r.choice(deck)\n",
        "        my_cards.append(card)\n",
        "        deck.remove(card)\n",
        "        nc+= 1\n",
        "      if (sum(my_cards)==21):\n",
        "        counth +=1\n",
        "        avcnch = avcnch + nc\n",
        "        mnc21h.append(nc)\n",
        "    else:\n",
        "      deck= [1,2,3,4,5,6,7,8,9,10,10,10,10,1,2,3,4,5,6,7,8,9,10,10,10,10,1,2,3,4,5,6,7,8,9,10,10,10,10,1,2,3,4,5,6,7,8,9,10,10,10,10] #\"Cold Deck\"\n",
        "      my_cards=[]\n",
        "      nc=0\n",
        "      countctries +=1\n",
        "      while (sum(my_cards)<21):\n",
        "        card = r.choice(deck)\n",
        "        my_cards.append(card)\n",
        "        deck.remove(card)\n",
        "        nc+= 1\n",
        "      if (sum(my_cards)==21):\n",
        "        countc +=1\n",
        "        avcncc = avcncc + nc\n",
        "        mnc21c.append(nc)\n",
        "    \n",
        "#print(\"probabibilidad de tener 21 para Hot Deck es de \" , counth/counthtries,\",cartas promedio por mano\", avcnch/counth, \",maximo número de cartas para tener 21 =\",max(mnc21h),\",Ben termina con $\" , 1000*(counth-counthtries),\",número de intentos\",counthtries)\n",
        "#print(\"probabibilidad de tener 21 para Cold Deck es de \" , countc/countctries,\",cartas promedio por mano\", avcncc/countc, \",maximo número de cartas para tener 21 =\",max(mnc21c),\",Ben termina con $\" , 10*(countc-countctries),\",número de intentos\",countctries)\n",
        "  averagelosses.append(1000*(counth-counthtries)+10*(countc-countctries))\n",
        "\n",
        "print(\"Ben pierde\",sum(averagelosses)/len(averagelosses))"
      ],
      "execution_count": 32,
      "outputs": [
        {
          "output_type": "stream",
          "text": [
            "Ben pierde -39226.652\n"
          ],
          "name": "stdout"
        }
      ]
    }
  ]
}